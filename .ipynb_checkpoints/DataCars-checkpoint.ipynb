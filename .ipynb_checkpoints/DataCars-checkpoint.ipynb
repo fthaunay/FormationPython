{
 "cells": [
  {
   "cell_type": "code",
   "execution_count": 1,
   "metadata": {
    "collapsed": true
   },
   "outputs": [],
   "source": [
    "import pandas as pd\n"
   ]
  },
  {
   "cell_type": "code",
   "execution_count": 2,
   "metadata": {
    "collapsed": true
   },
   "outputs": [],
   "source": [
    "carsData = pd.read_csv(\"carsdata_features.csv\")"
   ]
  },
  {
   "cell_type": "code",
   "execution_count": 5,
   "metadata": {
    "collapsed": false
   },
   "outputs": [
    {
     "data": {
      "text/plain": [
       "array(['NO_ABS', 'NO_accoudoir_central', 'NO_airbag_conducteur',\n",
       "       'NO_airbag_lateraux', 'NO_airbag_passager', 'NO_airbag_tete_rideau',\n",
       "       'alesage_mm', 'course_piston_mm', 'NO_allumage_auto_feux',\n",
       "       'NO_antipatinage', 'NO_appuis_tete_arriere',\n",
       "       'NO_assistant_freinage', 'NO_banquette_arriere_rabattable',\n",
       "       'NO_blocage_differentiel', 'NO_bluetooth', 'capacite_charge_max_kg',\n",
       "       'capacite_moteur_cc', 'NO_capteur_stationnement',\n",
       "       'NO_capteur_temp_liquide_refroidissement', 'LPG_carburant',\n",
       "       'bio_ethanol_carburant', 'diesel_carburant',\n",
       "       'natural_gas_carburant', 'catalyseur_onregular',\n",
       "       'catalyseur_part_filter', 'catalyseur_egular', 'No_clim_bizone',\n",
       "       'NO_climatisation', 'NO_commande_audio_volant', 'compteur_jours',\n",
       "       'conso_extra_urbaine_l_par_100km', 'conso_extra_urbaine_km_par_l',\n",
       "       'conso_mixte_l_par_100km', 'conso_mixte_km_par_l',\n",
       "       'conso_urbaine_l_par_100km', 'conso_urbaine_km_par_l', 'couple_max',\n",
       "       'couple_max_tr_min', 'nb_cylindres', 'cylindres_boxer',\n",
       "       'cylindres_en_V', 'cylindres_en_W', 'date_fin', 'date_sortie',\n",
       "       'NO_thermometre_exterieur', 'NO_direction_assistee',\n",
       "       'NO_eclairage_miroir_maquillage', 'NO_eclairage_tdb_reglable',\n",
       "       'NO_electro_stabilisateur_prog', 'emission_co2_g_par_km',\n",
       "       'empattement', 'intervale_km_entretien',\n",
       "       'intervale_annees_entretien', 'NO_essuie_glace_auto',\n",
       "       'NO_fermeture_portes_centrallisee', 'NO_feux_anti_brouillard',\n",
       "       'NO_feux_circulation_diurnes', 'freins_arriere_type_trommels',\n",
       "       'freins_arriere_type_ventilated_disc',\n",
       "       'freins_arriere_diametre_disc', 'freins_avant_type_trommels',\n",
       "       'freins_avant_type_ventilated_disc', 'freins_avant_diametre_disc',\n",
       "       'duree_garantie_carroserie', 'garantie_generale_annees',\n",
       "       'garantie_generale_km', 'hauteur_mm', 'NO_jantes_alliage',\n",
       "       'largeur_mm', 'NO_lave_phares', 'NO_liseuse', 'longueur_mm',\n",
       "       'longueur_coffre_min', 'longueur_coffre_max',\n",
       "       'ratio_marche_arriere', 'masse_admissible_max',\n",
       "       'masse_max_frein_avec_remorque', 'masse_max_frein_sans_remorque',\n",
       "       'masse_vide', 'max_boule_presse', 'max_charge_toit',\n",
       "       'niveau_energie_B', 'niveau_energie_C', 'niveau_energie_D',\n",
       "       'niveau_energie_E', 'niveau_energie_F', 'niveau_energie_G',\n",
       "       'marque', 'modele', 'version', 'nombre_portes', 'nombre_sieges',\n",
       "       'prix', 'NO_ordinateur_bord', 'NO_panorama', 'NO_pare_chocs_peints',\n",
       "       'NO_peinture_metalisee', 'NO_phares_xenon', 'pneus_largeur',\n",
       "       'pneus_hauteur', 'pneus_type', 'pneus_diametre', 'puissance_max_kW',\n",
       "       'puissance_max_HP', 'puissance_max_tr_min', 'NO_rails_toit',\n",
       "       'rayon_virage', 'NO_reg_electrique_sieges', 'NO_reg_vitesse',\n",
       "       'NO_repartiteur_elect_freinage', 'reservoir_carburant',\n",
       "       'NO_retros_clignotant', 'NO_retros_electriques',\n",
       "       'NO_retros_electrochrome', 'NO_retros_ext_rabatable',\n",
       "       'NO_retros_gradation_auto', 'roues_motrices_avant_arriere',\n",
       "       'roues_motrices_arriere', 'NO_siege_chauffant', 'NO_siege_cuir',\n",
       "       'NO_siege_reglable_hauteur', 'NO_siege_reglage_lombaire',\n",
       "       'NO_siege_sport', 'soupapes_par_cylindre', 'stabilisatrice_arriere',\n",
       "       'stabilisatrice_avant', 'suspension_arriere_de_dion',\n",
       "       'suspension_arriere_independent_double_wishbone',\n",
       "       'suspension_arriere_independent_long_arm',\n",
       "       'suspension_independent_wishbone', 'suspension_arriere_multilink',\n",
       "       'suspension_arriere_rigid', 'suspension_arriere_semi_independant',\n",
       "       'suspension_avant_independent_McPherson',\n",
       "       'suspension_avant_independent_double_wishbone',\n",
       "       'suspension_avant_independent_long_arm',\n",
       "       'suspension_avant_independent_wishbone',\n",
       "       'suspension_avant_independent_multilink', 'NO_sys_alarme',\n",
       "       'NO_sys_audio', 'sys_carburant_indirect_injection',\n",
       "       'sys_carburant_direct_injection',\n",
       "       'sys_carburant_multipoint_injection',\n",
       "       'sys_carburant_singlepoint_injection', 'sys_entrainement_electric',\n",
       "       'sys_entrainement_hybrid', 'sys_entrainement_plugin_hybrid',\n",
       "       'NO_sys_navigation', 'NO_sys_stop_start', 'NO_tachymetre',\n",
       "       'taux_compression', 'NO_teledeverrouillage',\n",
       "       'NO_toit_ouvrant_glissant', 'tr_min_120_kmh',\n",
       "       'transmission_automatic', 'transmission_semi_automatic',\n",
       "       'transmission_sequential_automatic', 'transmission_finale',\n",
       "       'supercharger', 'turbocharger', 'twincharger',\n",
       "       'turbocharger_w_intercooler', 'bus', 'cabriolet', 'coupe',\n",
       "       'hatchback', 'mpv', 'pickup', 'sedan', 'stationwagon',\n",
       "       'suv_crossover', 'electromagnetic_synchronous_motor',\n",
       "       'valvetrain_ohc', 'valvetrain_ohv',\n",
       "       'permanent_magnet_synchronous_motor', 'NO_verre_intim_arriere',\n",
       "       'vitesse_1ere', 'vitesse_2eme', 'vitesse_3eme', 'vitesse_4eme',\n",
       "       'vitesse_max', 'NO_vitres_electriques', 'NO_vitres_teintees',\n",
       "       'voie_arriere', 'voie_avant', 'NO_volant_cuir',\n",
       "       'NO_volant_reglable', 'volume_coffre_min', 'volume_coffre_max',\n",
       "       'zero_100'], dtype=object)"
      ]
     },
     "execution_count": 5,
     "metadata": {},
     "output_type": "execute_result"
    }
   ],
   "source": [
    "carsData.columns.values"
   ]
  },
  {
   "cell_type": "markdown",
   "metadata": {},
   "source": [
    "split des jeux de données\n"
   ]
  },
  {
   "cell_type": "code",
   "execution_count": 6,
   "metadata": {
    "collapsed": true
   },
   "outputs": [],
   "source": [
    "import sklearn"
   ]
  },
  {
   "cell_type": "markdown",
   "metadata": {},
   "source": [
    "Filtrer les prix non nuls"
   ]
  },
  {
   "cell_type": "code",
   "execution_count": 57,
   "metadata": {
    "collapsed": true
   },
   "outputs": [],
   "source": [
    "filteredData = carsData[carsData.prix.notnull()]"
   ]
  },
  {
   "cell_type": "code",
   "execution_count": 69,
   "metadata": {
    "collapsed": true
   },
   "outputs": [],
   "source": [
    "y = filteredData.prix.as_matrix()"
   ]
  },
  {
   "cell_type": "markdown",
   "metadata": {},
   "source": [
    "Eliminer les zones a texte\n"
   ]
  },
  {
   "cell_type": "code",
   "execution_count": 70,
   "metadata": {
    "collapsed": false
   },
   "outputs": [],
   "source": [
    "X = filteredData.drop([\"prix\",\"marque\", \"modele\", \"version\"], axis=1).as_matrix()"
   ]
  },
  {
   "cell_type": "code",
   "execution_count": 73,
   "metadata": {
    "collapsed": true
   },
   "outputs": [],
   "source": [
    "import numpy as np"
   ]
  },
  {
   "cell_type": "markdown",
   "metadata": {},
   "source": [
    "Technique de split des donnees en jeux de test et d'entrainement\n"
   ]
  },
  {
   "cell_type": "code",
   "execution_count": 71,
   "metadata": {
    "collapsed": true
   },
   "outputs": [],
   "source": [
    "from sklearn.cross_validation import train_test_split\n"
   ]
  },
  {
   "cell_type": "code",
   "execution_count": 102,
   "metadata": {
    "collapsed": false
   },
   "outputs": [
    {
     "data": {
      "text/plain": [
       "(63652L, 186L)"
      ]
     },
     "execution_count": 102,
     "metadata": {},
     "output_type": "execute_result"
    }
   ],
   "source": [
    "#Taille de la matrice X\n",
    "X.shape"
   ]
  },
  {
   "cell_type": "markdown",
   "metadata": {},
   "source": [
    "Format des 4 jeux de donnees "
   ]
  },
  {
   "cell_type": "code",
   "execution_count": 77,
   "metadata": {
    "collapsed": false
   },
   "outputs": [],
   "source": [
    "x_train, x_test, y_train, y_test = train_test_split(X, y, test_size=0.25)"
   ]
  },
  {
   "cell_type": "code",
   "execution_count": 78,
   "metadata": {
    "collapsed": false
   },
   "outputs": [
    {
     "data": {
      "text/plain": [
       "(47739L, 186L)"
      ]
     },
     "execution_count": 78,
     "metadata": {},
     "output_type": "execute_result"
    }
   ],
   "source": [
    "x_train.shape"
   ]
  },
  {
   "cell_type": "code",
   "execution_count": 79,
   "metadata": {
    "collapsed": false
   },
   "outputs": [
    {
     "data": {
      "text/plain": [
       "(15913L, 186L)"
      ]
     },
     "execution_count": 79,
     "metadata": {},
     "output_type": "execute_result"
    }
   ],
   "source": [
    "x_test.shape"
   ]
  },
  {
   "cell_type": "code",
   "execution_count": 80,
   "metadata": {
    "collapsed": false
   },
   "outputs": [
    {
     "data": {
      "text/plain": [
       "(47739L,)"
      ]
     },
     "execution_count": 80,
     "metadata": {},
     "output_type": "execute_result"
    }
   ],
   "source": [
    "y_train.shape"
   ]
  },
  {
   "cell_type": "code",
   "execution_count": 81,
   "metadata": {
    "collapsed": false
   },
   "outputs": [
    {
     "data": {
      "text/plain": [
       "(15913L,)"
      ]
     },
     "execution_count": 81,
     "metadata": {},
     "output_type": "execute_result"
    }
   ],
   "source": [
    "y_test.shape"
   ]
  },
  {
   "cell_type": "markdown",
   "metadata": {},
   "source": [
    "Regression lineaire\n"
   ]
  },
  {
   "cell_type": "code",
   "execution_count": 82,
   "metadata": {
    "collapsed": true
   },
   "outputs": [],
   "source": [
    "from sklearn.linear_model import LinearRegression"
   ]
  },
  {
   "cell_type": "code",
   "execution_count": 83,
   "metadata": {
    "collapsed": true
   },
   "outputs": [],
   "source": [
    "from sklearn.feature_selection import RFECV"
   ]
  },
  {
   "cell_type": "code",
   "execution_count": 84,
   "metadata": {
    "collapsed": true
   },
   "outputs": [],
   "source": [
    "selector = RFECV(LinearRegression(), step=1, cv=5)"
   ]
  },
  {
   "cell_type": "code",
   "execution_count": 85,
   "metadata": {
    "collapsed": true
   },
   "outputs": [],
   "source": [
    "from sklearn.preprocessing import Imputer"
   ]
  },
  {
   "cell_type": "markdown",
   "metadata": {},
   "source": [
    "Apprend les moyennes des colonnes de X"
   ]
  },
  {
   "cell_type": "code",
   "execution_count": 86,
   "metadata": {
    "collapsed": true
   },
   "outputs": [],
   "source": [
    " imp = Imputer(missing_values='NaN', strategy=\"mean\", axis=0)"
   ]
  },
  {
   "cell_type": "code",
   "execution_count": 87,
   "metadata": {
    "collapsed": false
   },
   "outputs": [
    {
     "data": {
      "text/plain": [
       "Imputer(axis=0, copy=True, missing_values='NaN', strategy='mean', verbose=0)"
      ]
     },
     "execution_count": 87,
     "metadata": {},
     "output_type": "execute_result"
    }
   ],
   "source": [
    "imp.fit(X)"
   ]
  },
  {
   "cell_type": "markdown",
   "metadata": {},
   "source": [
    "Pour pouvoir transformer les donnees Nan par ces moyennes"
   ]
  },
  {
   "cell_type": "code",
   "execution_count": 88,
   "metadata": {
    "collapsed": true
   },
   "outputs": [],
   "source": [
    "newX = imp.transform(X)"
   ]
  },
  {
   "cell_type": "markdown",
   "metadata": {},
   "source": [
    "Regression lineaire a partir des jeux de donnees et valeurs cibles\n"
   ]
  },
  {
   "cell_type": "code",
   "execution_count": 89,
   "metadata": {
    "collapsed": false
   },
   "outputs": [
    {
     "data": {
      "text/plain": [
       "RFECV(cv=5,\n",
       "   estimator=LinearRegression(copy_X=True, fit_intercept=True, n_jobs=1, normalize=False),\n",
       "   estimator_params=None, scoring=None, step=1, verbose=0)"
      ]
     },
     "execution_count": 89,
     "metadata": {},
     "output_type": "execute_result"
    }
   ],
   "source": [
    "selector.fit(newX,y)"
   ]
  },
  {
   "cell_type": "markdown",
   "metadata": {},
   "source": [
    "Identifier les variables d'importance\n"
   ]
  },
  {
   "cell_type": "markdown",
   "metadata": {},
   "source": [
    "Selector_support pour identifier les colonnes importantes pour la regression"
   ]
  },
  {
   "cell_type": "code",
   "execution_count": 95,
   "metadata": {
    "collapsed": false
   },
   "outputs": [],
   "source": [
    "mask = selector.support_"
   ]
  },
  {
   "cell_type": "code",
   "execution_count": 99,
   "metadata": {
    "collapsed": false
   },
   "outputs": [],
   "source": [
    "noMask = np.logical_not(mask)"
   ]
  },
  {
   "cell_type": "markdown",
   "metadata": {},
   "source": []
  },
  {
   "cell_type": "code",
   "execution_count": 91,
   "metadata": {
    "collapsed": true
   },
   "outputs": [],
   "source": [
    "df = carsData.drop([\"prix\",\"marque\", \"modele\", \"version\"], axis=1)"
   ]
  },
  {
   "cell_type": "markdown",
   "metadata": {},
   "source": [
    "Restock dans une nouvelle dataFrame avec ligne:colonne\n"
   ]
  },
  {
   "cell_type": "code",
   "execution_count": 100,
   "metadata": {
    "collapsed": false
   },
   "outputs": [],
   "source": [
    "newDf = df.iloc[:, noMask]"
   ]
  },
  {
   "cell_type": "code",
   "execution_count": 101,
   "metadata": {
    "collapsed": false
   },
   "outputs": [
    {
     "data": {
      "text/html": [
       "<div>\n",
       "<table border=\"1\" class=\"dataframe\">\n",
       "  <thead>\n",
       "    <tr style=\"text-align: right;\">\n",
       "      <th></th>\n",
       "      <th>couple_max_tr_min</th>\n",
       "      <th>date_sortie</th>\n",
       "      <th>intervale_km_entretien</th>\n",
       "      <th>freins_arriere_diametre_disc</th>\n",
       "      <th>garantie_generale_km</th>\n",
       "      <th>hauteur_mm</th>\n",
       "      <th>largeur_mm</th>\n",
       "      <th>longueur_mm</th>\n",
       "      <th>longueur_coffre_min</th>\n",
       "      <th>longueur_coffre_max</th>\n",
       "      <th>masse_max_frein_avec_remorque</th>\n",
       "      <th>masse_max_frein_sans_remorque</th>\n",
       "      <th>masse_vide</th>\n",
       "      <th>max_boule_presse</th>\n",
       "      <th>max_charge_toit</th>\n",
       "      <th>NO_ordinateur_bord</th>\n",
       "      <th>puissance_max_HP</th>\n",
       "      <th>NO_toit_ouvrant_glissant</th>\n",
       "      <th>NO_volant_reglable</th>\n",
       "      <th>volume_coffre_min</th>\n",
       "    </tr>\n",
       "  </thead>\n",
       "  <tbody>\n",
       "    <tr>\n",
       "      <th>0</th>\n",
       "      <td>1950.0</td>\n",
       "      <td>2003.0</td>\n",
       "      <td>30000.0</td>\n",
       "      <td>264.0</td>\n",
       "      <td>NaN</td>\n",
       "      <td>1636.0</td>\n",
       "      <td>1742.0</td>\n",
       "      <td>4318.0</td>\n",
       "      <td>300.0</td>\n",
       "      <td>1640.0</td>\n",
       "      <td>1400.0</td>\n",
       "      <td>600.0</td>\n",
       "      <td>1440.0</td>\n",
       "      <td>75.0</td>\n",
       "      <td>75.0</td>\n",
       "      <td>0</td>\n",
       "      <td>200.0</td>\n",
       "      <td>1</td>\n",
       "      <td>0</td>\n",
       "      <td>150.0</td>\n",
       "    </tr>\n",
       "    <tr>\n",
       "      <th>1</th>\n",
       "      <td>2500.0</td>\n",
       "      <td>2012.0</td>\n",
       "      <td>15000.0</td>\n",
       "      <td>204.0</td>\n",
       "      <td>100000.0</td>\n",
       "      <td>1518.0</td>\n",
       "      <td>1733.0</td>\n",
       "      <td>4058.0</td>\n",
       "      <td>NaN</td>\n",
       "      <td>NaN</td>\n",
       "      <td>1100.0</td>\n",
       "      <td>465.0</td>\n",
       "      <td>937.0</td>\n",
       "      <td>75.0</td>\n",
       "      <td>NaN</td>\n",
       "      <td>0</td>\n",
       "      <td>90.0</td>\n",
       "      <td>1</td>\n",
       "      <td>0</td>\n",
       "      <td>320.0</td>\n",
       "    </tr>\n",
       "    <tr>\n",
       "      <th>2</th>\n",
       "      <td>3000.0</td>\n",
       "      <td>2003.0</td>\n",
       "      <td>15000.0</td>\n",
       "      <td>NaN</td>\n",
       "      <td>100000.0</td>\n",
       "      <td>1750.0</td>\n",
       "      <td>1765.0</td>\n",
       "      <td>4510.0</td>\n",
       "      <td>980.0</td>\n",
       "      <td>1650.0</td>\n",
       "      <td>1350.0</td>\n",
       "      <td>750.0</td>\n",
       "      <td>1465.0</td>\n",
       "      <td>75.0</td>\n",
       "      <td>100.0</td>\n",
       "      <td>1</td>\n",
       "      <td>165.0</td>\n",
       "      <td>0</td>\n",
       "      <td>0</td>\n",
       "      <td>410.0</td>\n",
       "    </tr>\n",
       "    <tr>\n",
       "      <th>3</th>\n",
       "      <td>NaN</td>\n",
       "      <td>2013.0</td>\n",
       "      <td>30000.0</td>\n",
       "      <td>NaN</td>\n",
       "      <td>NaN</td>\n",
       "      <td>1562.0</td>\n",
       "      <td>1730.0</td>\n",
       "      <td>4084.0</td>\n",
       "      <td>NaN</td>\n",
       "      <td>NaN</td>\n",
       "      <td>NaN</td>\n",
       "      <td>NaN</td>\n",
       "      <td>1403.0</td>\n",
       "      <td>NaN</td>\n",
       "      <td>NaN</td>\n",
       "      <td>0</td>\n",
       "      <td>88.0</td>\n",
       "      <td>1</td>\n",
       "      <td>0</td>\n",
       "      <td>338.0</td>\n",
       "    </tr>\n",
       "    <tr>\n",
       "      <th>4</th>\n",
       "      <td>4200.0</td>\n",
       "      <td>2015.0</td>\n",
       "      <td>20000.0</td>\n",
       "      <td>NaN</td>\n",
       "      <td>150000.0</td>\n",
       "      <td>1600.0</td>\n",
       "      <td>1765.0</td>\n",
       "      <td>4075.0</td>\n",
       "      <td>NaN</td>\n",
       "      <td>NaN</td>\n",
       "      <td>1100.0</td>\n",
       "      <td>550.0</td>\n",
       "      <td>1197.0</td>\n",
       "      <td>75.0</td>\n",
       "      <td>70.0</td>\n",
       "      <td>0</td>\n",
       "      <td>124.0</td>\n",
       "      <td>0</td>\n",
       "      <td>0</td>\n",
       "      <td>440.0</td>\n",
       "    </tr>\n",
       "  </tbody>\n",
       "</table>\n",
       "</div>"
      ],
      "text/plain": [
       "   couple_max_tr_min  date_sortie  intervale_km_entretien  \\\n",
       "0             1950.0       2003.0                 30000.0   \n",
       "1             2500.0       2012.0                 15000.0   \n",
       "2             3000.0       2003.0                 15000.0   \n",
       "3                NaN       2013.0                 30000.0   \n",
       "4             4200.0       2015.0                 20000.0   \n",
       "\n",
       "   freins_arriere_diametre_disc  garantie_generale_km  hauteur_mm  largeur_mm  \\\n",
       "0                         264.0                   NaN      1636.0      1742.0   \n",
       "1                         204.0              100000.0      1518.0      1733.0   \n",
       "2                           NaN              100000.0      1750.0      1765.0   \n",
       "3                           NaN                   NaN      1562.0      1730.0   \n",
       "4                           NaN              150000.0      1600.0      1765.0   \n",
       "\n",
       "   longueur_mm  longueur_coffre_min  longueur_coffre_max  \\\n",
       "0       4318.0                300.0               1640.0   \n",
       "1       4058.0                  NaN                  NaN   \n",
       "2       4510.0                980.0               1650.0   \n",
       "3       4084.0                  NaN                  NaN   \n",
       "4       4075.0                  NaN                  NaN   \n",
       "\n",
       "   masse_max_frein_avec_remorque  masse_max_frein_sans_remorque  masse_vide  \\\n",
       "0                         1400.0                          600.0      1440.0   \n",
       "1                         1100.0                          465.0       937.0   \n",
       "2                         1350.0                          750.0      1465.0   \n",
       "3                            NaN                            NaN      1403.0   \n",
       "4                         1100.0                          550.0      1197.0   \n",
       "\n",
       "   max_boule_presse  max_charge_toit  NO_ordinateur_bord  puissance_max_HP  \\\n",
       "0              75.0             75.0                   0             200.0   \n",
       "1              75.0              NaN                   0              90.0   \n",
       "2              75.0            100.0                   1             165.0   \n",
       "3               NaN              NaN                   0              88.0   \n",
       "4              75.0             70.0                   0             124.0   \n",
       "\n",
       "   NO_toit_ouvrant_glissant  NO_volant_reglable  volume_coffre_min  \n",
       "0                         1                   0              150.0  \n",
       "1                         1                   0              320.0  \n",
       "2                         0                   0              410.0  \n",
       "3                         1                   0              338.0  \n",
       "4                         0                   0              440.0  "
      ]
     },
     "execution_count": 101,
     "metadata": {},
     "output_type": "execute_result"
    }
   ],
   "source": [
    "newDf.head()"
   ]
  },
  {
   "cell_type": "code",
   "execution_count": null,
   "metadata": {
    "collapsed": true
   },
   "outputs": [],
   "source": []
  }
 ],
 "metadata": {
  "anaconda-cloud": {},
  "kernelspec": {
   "display_name": "Python 2",
   "language": "python",
   "name": "python2"
  },
  "language_info": {
   "codemirror_mode": {
    "name": "ipython",
    "version": 2
   },
   "file_extension": ".py",
   "mimetype": "text/x-python",
   "name": "python",
   "nbconvert_exporter": "python",
   "pygments_lexer": "ipython2",
   "version": "2.7.12"
  }
 },
 "nbformat": 4,
 "nbformat_minor": 1
}
