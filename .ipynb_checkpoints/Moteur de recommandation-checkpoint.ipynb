{
 "cells": [
  {
   "cell_type": "code",
   "execution_count": 2,
   "metadata": {
    "collapsed": false
   },
   "outputs": [
    {
     "name": "stdout",
     "output_type": "stream",
     "text": [
      "Welcome to\n",
      "      ____              __\n",
      "     / __/__  ___ _____/ /__\n",
      "    _\\ \\/ _ \\/ _ `/ __/  '_/\n",
      "   /__ / .__/\\_,_/_/ /_/\\_\\   version 1.6.1\n",
      "      /_/\n",
      "\n",
      "Using Python version 2.7.13 (default, Dec 20 2016 23:05:08)\n",
      "SparkContext available as sc, HiveContext available as sqlContext.\n"
     ]
    }
   ],
   "source": [
    "import os\n",
    "import sys\n",
    "os.environ['SPARK_HOME'] = \"/Users/Florian/spark\"\n",
    "spark_home = os.environ.get('SPARK_HOME', None)\n",
    "sys.path.insert(0, os.path.join(spark_home, '/Users/Florian/spark/python'))\n",
    "sys.path.insert(0, os.path.join(spark_home, '/Users/Florian/spark/python/lib/py4j-0.9-src.zip'))\n",
    "execfile(os.path.join(spark_home, '/Users/Florian/spark/python/pyspark/shell.py'))"
   ]
  },
  {
   "cell_type": "markdown",
   "metadata": {},
   "source": [
    "# Moteur de recommandation de films\n",
    "\n",
    "On va générer un moteur de recommendation dans Spark. Pour cela on va utiliser le dataset mis à disposition par movieLens."
   ]
  },
  {
   "cell_type": "code",
   "execution_count": 3,
   "metadata": {
    "collapsed": true
   },
   "outputs": [],
   "source": [
    "import itertools\n",
    "from math import sqrt\n",
    "from operator import add\n",
    "from os.path import join, isfile, dirname\n",
    "\n",
    "from pyspark import SparkConf, SparkContext\n",
    "from pyspark.mllib.recommendation import ALS\n",
    "\n",
    "#use a parsing function\n",
    "def parseRating(line):\n",
    "    fields = line.strip().split(\"::\")\n",
    "    return long(fields[3]) % 10, (int(fields[0]), int(fields[1]), int(fields[2]))\n"
   ]
  },
  {
   "cell_type": "code",
   "execution_count": 5,
   "metadata": {
    "collapsed": false
   },
   "outputs": [],
   "source": [
    "# load personal ratings\n",
    "f = open(\"/Users/Florian/Documents/Formation_Python/personalRatings.txt\")\n",
    "#get only rated movies (i.e. fields[2] > 0)\n",
    "ratings = filter(lambda r: r[2] > 0, [parseRating(line)[1] for line in f])\n",
    "\n",
    "f.close()\n"
   ]
  },
  {
   "cell_type": "code",
   "execution_count": 6,
   "metadata": {
    "collapsed": true
   },
   "outputs": [],
   "source": [
    "#create an RDD\n",
    "myRatingsRDD = sc.parallelize(ratings, 1)"
   ]
  },
  {
   "cell_type": "code",
   "execution_count": 7,
   "metadata": {
    "collapsed": false
   },
   "outputs": [
    {
     "data": {
      "text/plain": [
       "[(0, 1, 4),\n",
       " (0, 780, 2),\n",
       " (0, 590, 3),\n",
       " (0, 1210, 5),\n",
       " (0, 648, 3),\n",
       " (0, 344, 1),\n",
       " (0, 165, 2),\n",
       " (0, 153, 4),\n",
       " (0, 597, 2),\n",
       " (0, 1580, 3),\n",
       " (0, 231, 4)]"
      ]
     },
     "execution_count": 7,
     "metadata": {},
     "output_type": "execute_result"
    }
   ],
   "source": [
    "myRatingsRDD.collect()"
   ]
  },
  {
   "cell_type": "markdown",
   "metadata": {},
   "source": [
    "Chargement du dataset movieLens:"
   ]
  },
  {
   "cell_type": "code",
   "execution_count": 12,
   "metadata": {
    "collapsed": false
   },
   "outputs": [
    {
     "data": {
      "text/plain": [
       "1000209"
      ]
     },
     "execution_count": 12,
     "metadata": {},
     "output_type": "execute_result"
    }
   ],
   "source": [
    "movieLensHomeDir = \"/Users/Florian/Documents/Formation_Python/ratings.dat\"\n",
    "# ratings is an RDD of (last digit of timestamp, (userID, movieID, rating))\n",
    "ratings = sc.textFile(movieLensHomeDir).map(parseRating)\n",
    "\n",
    "numRatings = ratings.count()\n",
    "numRatings\n"
   ]
  },
  {
   "cell_type": "code",
   "execution_count": 70,
   "metadata": {
    "collapsed": false
   },
   "outputs": [],
   "source": [
    "def parseMovie(line):\n",
    "    fields=line.strip().split(\"::\")\n",
    "    return int(fields[0]), fields[1]\n",
    "\n",
    "movies = dict(sc.textFile(\"/Users/Florian/Documents/Formation_Python/movies.dat\").map(parseMovie).collect())"
   ]
  },
  {
   "cell_type": "markdown",
   "metadata": {},
   "source": [
    "## 1 - Exercice\n",
    "\n",
    "* Combien d'utilisateurs ?\n",
    "* Combien de films ?"
   ]
  },
  {
   "cell_type": "code",
   "execution_count": 14,
   "metadata": {
    "collapsed": false
   },
   "outputs": [
    {
     "data": {
      "text/plain": [
       "[(0L, (1, 1193, 5)),\n",
       " (9L, (1, 661, 3)),\n",
       " (8L, (1, 914, 3)),\n",
       " (5L, (1, 3408, 4)),\n",
       " (1L, (1, 2355, 5)),\n",
       " (8L, (1, 1197, 3)),\n",
       " (9L, (1, 1287, 5)),\n",
       " (9L, (1, 2804, 5)),\n",
       " (8L, (1, 594, 4)),\n",
       " (8L, (1, 919, 4))]"
      ]
     },
     "execution_count": 14,
     "metadata": {},
     "output_type": "execute_result"
    }
   ],
   "source": [
    "ratings.take(10)\n"
   ]
  },
  {
   "cell_type": "code",
   "execution_count": 20,
   "metadata": {
    "collapsed": false
   },
   "outputs": [
    {
     "data": {
      "text/plain": [
       "6040"
      ]
     },
     "execution_count": 20,
     "metadata": {},
     "output_type": "execute_result"
    }
   ],
   "source": [
    "ratings.map(lambda monTuple : monTuple[1][0]).distinct().count()\n"
   ]
  },
  {
   "cell_type": "code",
   "execution_count": 21,
   "metadata": {
    "collapsed": false
   },
   "outputs": [
    {
     "data": {
      "text/plain": [
       "3706"
      ]
     },
     "execution_count": 21,
     "metadata": {},
     "output_type": "execute_result"
    }
   ],
   "source": [
    "ratings.map(lambda monTuple : monTuple[1][1]).distinct().count()"
   ]
  },
  {
   "cell_type": "markdown",
   "metadata": {},
   "source": [
    "## 2 - Spliter les données\n",
    "Séparer les données en un jeu de trainning (60%), validation (20%) et testing (20%) en utilisant le dernier chiffre du timestamp.\n",
    "Etape 2 : répartir chaque jeu de données sur chacun des RDD"
   ]
  },
  {
   "cell_type": "code",
   "execution_count": 57,
   "metadata": {
    "collapsed": false
   },
   "outputs": [],
   "source": [
    "\n",
    "\n",
    "training = ratings.filter(lambda monTuple : monTuple[0]<6).values().union(myRatingsRDD).repartition(2).cache()\n",
    "numTraining = training.count()\n",
    "\n"
   ]
  },
  {
   "cell_type": "code",
   "execution_count": 58,
   "metadata": {
    "collapsed": false
   },
   "outputs": [],
   "source": [
    "validation = ratings.filter(lambda monTuple : monTuple[0]>=6 and monTuple[0]<8).values().repartition(2).cache()\n",
    "numValidation = validation.count()\n"
   ]
  },
  {
   "cell_type": "code",
   "execution_count": 59,
   "metadata": {
    "collapsed": false
   },
   "outputs": [],
   "source": [
    "test = ratings.filter(lambda monTuple : monTuple[0]>=8).values().repartition(2).cache()\n",
    "numTest = test.count()\n"
   ]
  },
  {
   "cell_type": "markdown",
   "metadata": {},
   "source": [
    "# La mesure de l'erreur de prédiction"
   ]
  },
  {
   "cell_type": "code",
   "execution_count": 60,
   "metadata": {
    "collapsed": true
   },
   "outputs": [],
   "source": [
    "def computeRmse(model, data, n):\n",
    "    #get the prediction from an user - movie pair\n",
    "    predictions = model.predictAll(data.map(lambda x: (x[0], x[1])))\n",
    "    \n",
    "    #compare  the predictions to the actual ratings\n",
    "    #perform an inner join of the predictions with the data and their ratings (x[2])\n",
    "        \n",
    "    predictionsAndRatings = predictions.map(lambda x: ((x[0], x[1]), x[2])) \\\n",
    "        .join(data.map(lambda x: ((x[0], x[1]), x[2]))) \\\n",
    "        .values()  #keep the two ratings\n",
    "        \n",
    "    return sqrt(predictionsAndRatings.map(lambda x: (x[0] - x[1])**2).reduce(add) / float(n))"
   ]
  },
  {
   "cell_type": "code",
   "execution_count": 61,
   "metadata": {
    "collapsed": true
   },
   "outputs": [],
   "source": [
    "#Ranges of variables for the models\n",
    "ranks = [8, 12]\n",
    "lambdas = [0.1, 10.0]\n",
    "numIters = [10, 20]\n",
    "\n",
    "#Storing the best parameters\n",
    "bestModel = None\n",
    "bestTestRmse = 1.0e30000\n",
    "bestRank = 0\n",
    "bestLambda = -0.1\n",
    "bestNumIter = -1"
   ]
  },
  {
   "cell_type": "code",
   "execution_count": 62,
   "metadata": {
    "collapsed": false
   },
   "outputs": [
    {
     "name": "stdout",
     "output_type": "stream",
     "text": [
      "RMSE (test) = 0.874316 for the model trained with rank = 8, lambda = 0.1, and numIter = 10.\n",
      "The best model was trained with rank = 8 and lambda = 0.1, and numIter = 10, and its RMSE on the validation set is 0.874316.\n",
      "RMSE (test) = 0.870785 for the model trained with rank = 8, lambda = 0.1, and numIter = 20.\n",
      "The best model was trained with rank = 8 and lambda = 0.1, and numIter = 20, and its RMSE on the validation set is 0.870785.\n",
      "RMSE (test) = 3.752548 for the model trained with rank = 8, lambda = 10.0, and numIter = 10.\n",
      "The best model was trained with rank = 8 and lambda = 0.1, and numIter = 20, and its RMSE on the validation set is 0.870785.\n",
      "RMSE (test) = 3.752548 for the model trained with rank = 8, lambda = 10.0, and numIter = 20.\n",
      "The best model was trained with rank = 8 and lambda = 0.1, and numIter = 20, and its RMSE on the validation set is 0.870785.\n",
      "RMSE (test) = 0.877297 for the model trained with rank = 12, lambda = 0.1, and numIter = 10.\n",
      "The best model was trained with rank = 8 and lambda = 0.1, and numIter = 20, and its RMSE on the validation set is 0.870785.\n",
      "RMSE (test) = 0.868619 for the model trained with rank = 12, lambda = 0.1, and numIter = 20.\n",
      "The best model was trained with rank = 12 and lambda = 0.1, and numIter = 20, and its RMSE on the validation set is 0.868619.\n",
      "RMSE (test) = 3.752548 for the model trained with rank = 12, lambda = 10.0, and numIter = 10.\n",
      "The best model was trained with rank = 12 and lambda = 0.1, and numIter = 20, and its RMSE on the validation set is 0.868619.\n",
      "RMSE (test) = 3.752548 for the model trained with rank = 12, lambda = 10.0, and numIter = 20.\n",
      "The best model was trained with rank = 12 and lambda = 0.1, and numIter = 20, and its RMSE on the validation set is 0.868619.\n"
     ]
    }
   ],
   "source": [
    "#Training the ALS models on the training RDDs\n",
    "for rank, lmbda, numIter in itertools.product(ranks, lambdas, numIters):\n",
    "    #cartesian product, equivalent to neasted for loops\n",
    "    \n",
    "    model = ALS.train(training, rank, numIter, lmbda)\n",
    "    \n",
    "    #estimate error\n",
    "    testRmse = computeRmse(model, test, numTest)\n",
    "    \n",
    "    print \"RMSE (test) = %f for the model trained with \" % testRmse + \\\n",
    "          \"rank = %d, lambda = %.1f, and numIter = %d.\" % (rank, lmbda, numIter)\n",
    "        \n",
    "    #store the best settings\n",
    "    if(testRmse < bestTestRmse):\n",
    "        bestModel = model\n",
    "        bestTestRmse = testRmse\n",
    "        bestRank = rank\n",
    "        bestLambda = lmbda\n",
    "        bestNumIter = numIter\n",
    "        \n",
    "    # evaluate the best model on the validation set\n",
    "    validationRmse = computeRmse(bestModel, validation, numValidation)\n",
    "    \n",
    "    print \"The best model was trained with rank = %d and lambda = %.1f, \" % (bestRank, bestLambda) \\\n",
    "    + \"and numIter = %d, and its RMSE on the validation set is %f.\" % (bestNumIter, bestTestRmse)\n",
    "    "
   ]
  },
  {
   "cell_type": "markdown",
   "metadata": {},
   "source": [
    "## Utiliser le meilleur model pour faire les pérdictions"
   ]
  },
  {
   "cell_type": "code",
   "execution_count": 63,
   "metadata": {
    "collapsed": false
   },
   "outputs": [
    {
     "name": "stdout",
     "output_type": "stream",
     "text": [
      "The best model improves the baseline by 22.04%.\n"
     ]
    }
   ],
   "source": [
    "#compare the best model with a naive baseline always returning the mean rating\n",
    "meanRating = training.union(test).map(lambda x: x[2]).mean()\n",
    "baselineRmse = sqrt(validation.map(lambda x: (meanRating - x[2]) ** 2).reduce(add) / numValidation)\n",
    "improvement = (baselineRmse - validationRmse) / baselineRmse * 100\n",
    "print \"The best model improves the baseline by %.2f\" % (improvement) + \"%.\""
   ]
  },
  {
   "cell_type": "code",
   "execution_count": 67,
   "metadata": {
    "collapsed": false
   },
   "outputs": [
    {
     "data": {
      "text/plain": [
       "[(0, 1, 4),\n",
       " (0, 780, 2),\n",
       " (0, 590, 3),\n",
       " (0, 1210, 5),\n",
       " (0, 648, 3),\n",
       " (0, 344, 1),\n",
       " (0, 165, 2),\n",
       " (0, 153, 4),\n",
       " (0, 597, 2),\n",
       " (0, 1580, 3),\n",
       " (0, 231, 4)]"
      ]
     },
     "execution_count": 67,
     "metadata": {},
     "output_type": "execute_result"
    }
   ],
   "source": [
    "# load personal ratings\n",
    "f = open(\"/Users/Florian/Documents/Formation_Python/personalRatings.txt\")\n",
    "\n",
    "#get only rated movies (i.e. fields[2] > 0)\n",
    "myRatings = filter(lambda r: r[2] > 0, [parseRating(line)[1] for line in f])\n",
    "\n",
    "f.close()\n",
    "myRatings"
   ]
  },
  {
   "cell_type": "code",
   "execution_count": 71,
   "metadata": {
    "collapsed": false
   },
   "outputs": [
    {
     "name": "stdout",
     "output_type": "stream",
     "text": [
      "Movies recommended for you:\n",
      " 1: American Dream (1990)\n",
      " 2: Nobody Loves Me (Keiner liebt mich) (1994)\n",
      " 3: Anne Frank Remembered (1995)\n",
      " 4: Hard Core Logo (1996)\n",
      " 5: Some Mother's Son (1996)\n",
      " 6: Star Wars: Episode V - The Empire Strikes Back (1980)\n",
      " 7: Maya Lin: A Strong Clear Vision (1994)\n",
      " 8: Trial, The (Le Procs) (1963)\n",
      " 9: Conformist, The (Il Conformista) (1970)\n",
      "10: Careful (1992)\n"
     ]
    }
   ],
   "source": [
    "\n",
    "\n",
    "#make personalized recommendations\n",
    "myRatedMoviesIds = set([x[1] for x in myRatings])\n",
    "candidates = sc.parallelize([m for m in movies if m not in myRatedMoviesIds])\n",
    "predictions = bestModel.predictAll(candidates.map(lambda x: (0,x))).collect()\n",
    "recommendations = sorted(predictions, key=lambda x: x[2], reverse=True)[:10]\n",
    "\n",
    "print \"Movies recommended for you:\"\n",
    "for i in xrange(len(recommendations)):\n",
    "    print(\"%2d: %s\" % (i+1, movies[recommendations[i][1]])).encode('ascii','ignore')\n",
    "    "
   ]
  },
  {
   "cell_type": "code",
   "execution_count": null,
   "metadata": {
    "collapsed": true
   },
   "outputs": [],
   "source": [
    "sc.stop()"
   ]
  }
 ],
 "metadata": {
  "kernelspec": {
   "display_name": "Python 2",
   "language": "python",
   "name": "python2"
  },
  "language_info": {
   "codemirror_mode": {
    "name": "ipython",
    "version": 2
   },
   "file_extension": ".py",
   "mimetype": "text/x-python",
   "name": "python",
   "nbconvert_exporter": "python",
   "pygments_lexer": "ipython2",
   "version": "2.7.13"
  }
 },
 "nbformat": 4,
 "nbformat_minor": 0
}
