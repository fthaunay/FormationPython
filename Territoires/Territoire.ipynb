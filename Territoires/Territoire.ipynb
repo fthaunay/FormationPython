{
 "cells": [
  {
   "cell_type": "markdown",
   "metadata": {},
   "source": [
    "## Exercice avec des jeux de donnees sur la Bretagne et le Morbihan\n",
    "## avec donnees envoyees dans neo4j et traitees en python par la librairie py2neo"
   ]
  },
  {
   "cell_type": "code",
   "execution_count": 1,
   "metadata": {
    "collapsed": true
   },
   "outputs": [],
   "source": [
    "# TODO traiter un exemple de creation de node et de relationship\n",
    "from py2neo import Graph, authenticate, Relationship"
   ]
  },
  {
   "cell_type": "code",
   "execution_count": 2,
   "metadata": {
    "collapsed": true
   },
   "outputs": [],
   "source": [
    "authenticate(\"localhost:7474\", \"neo4j\", \"admin\")"
   ]
  },
  {
   "cell_type": "code",
   "execution_count": 3,
   "metadata": {
    "collapsed": true
   },
   "outputs": [],
   "source": [
    "graph = Graph()"
   ]
  },
  {
   "cell_type": "code",
   "execution_count": 6,
   "metadata": {
    "collapsed": true
   },
   "outputs": [],
   "source": [
    "#creation des noeuds\n",
    "import csv\n",
    "# with open permet de refermer automatiquement f lorsqu'il n'est plus utilise\n",
    "with open (\"../Territoires/bretagne.csv\", \"r\") as f:\n",
    "    bretagne_data = [list(line) for line in csv.reader(f, delimiter=\";\")]\n",
    "   "
   ]
  },
  {
   "cell_type": "code",
   "execution_count": 8,
   "metadata": {
    "collapsed": true
   },
   "outputs": [],
   "source": [
    "#creation des noeuds\n",
    "import csv\n",
    "# with open permet de refermer automatiquement f lorsqu'il n'est plus utilise\n",
    "with open (\"../Territoires/morbihan.csv\", \"r\") as f:\n",
    "    morbihan_data = [list(line) for line in csv.reader(f, delimiter=\";\")]"
   ]
  },
  {
   "cell_type": "code",
   "execution_count": 10,
   "metadata": {
    "collapsed": false
   },
   "outputs": [
    {
     "data": {
      "text/plain": [
       "['',\n",
       " 'name',\n",
       " 'codeInsee',\n",
       " 'codeDepartement',\n",
       " 'codeRegion',\n",
       " 'population',\n",
       " 'surface',\n",
       " 'lat',\n",
       " 'long']"
      ]
     },
     "execution_count": 10,
     "metadata": {},
     "output_type": "execute_result"
    }
   ],
   "source": [
    "morbihan_data[0]"
   ]
  },
  {
   "cell_type": "code",
   "execution_count": 11,
   "metadata": {
    "collapsed": false
   },
   "outputs": [
    {
     "data": {
      "text/plain": [
       "['',\n",
       " 'name',\n",
       " 'codeInsee',\n",
       " 'codeDepartement',\n",
       " 'codeRegion',\n",
       " 'population',\n",
       " 'surface',\n",
       " 'lat',\n",
       " 'long']"
      ]
     },
     "execution_count": 11,
     "metadata": {},
     "output_type": "execute_result"
    }
   ],
   "source": [
    "bretagne_data[0]"
   ]
  },
  {
   "cell_type": "code",
   "execution_count": null,
   "metadata": {
    "collapsed": true
   },
   "outputs": [],
   "source": []
  }
 ],
 "metadata": {
  "kernelspec": {
   "display_name": "Python 2",
   "language": "python",
   "name": "python2"
  },
  "language_info": {
   "codemirror_mode": {
    "name": "ipython",
    "version": 2
   },
   "file_extension": ".py",
   "mimetype": "text/x-python",
   "name": "python",
   "nbconvert_exporter": "python",
   "pygments_lexer": "ipython2",
   "version": "2.7.13"
  }
 },
 "nbformat": 4,
 "nbformat_minor": 2
}
