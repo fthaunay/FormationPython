{
 "cells": [
  {
   "cell_type": "code",
   "execution_count": 1,
   "metadata": {
    "collapsed": true
   },
   "outputs": [],
   "source": [
    "import sys\n"
   ]
  },
  {
   "cell_type": "code",
   "execution_count": 5,
   "metadata": {
    "collapsed": false
   },
   "outputs": [
    {
     "data": {
      "text/plain": [
       "'/Users/Florian/anaconda/bin/python'"
      ]
     },
     "execution_count": 5,
     "metadata": {},
     "output_type": "execute_result"
    }
   ],
   "source": [
    "sys.executable\n"
   ]
  },
  {
   "cell_type": "code",
   "execution_count": 8,
   "metadata": {
    "collapsed": false
   },
   "outputs": [
    {
     "data": {
      "text/plain": [
       "['',\n",
       " '/Users/Florian/anaconda/lib/python27.zip',\n",
       " '/Users/Florian/anaconda/lib/python2.7',\n",
       " '/Users/Florian/anaconda/lib/python2.7/plat-darwin',\n",
       " '/Users/Florian/anaconda/lib/python2.7/plat-mac',\n",
       " '/Users/Florian/anaconda/lib/python2.7/plat-mac/lib-scriptpackages',\n",
       " '/Users/Florian/anaconda/lib/python2.7/lib-tk',\n",
       " '/Users/Florian/anaconda/lib/python2.7/lib-old',\n",
       " '/Users/Florian/anaconda/lib/python2.7/lib-dynload',\n",
       " '/Users/Florian/anaconda/lib/python2.7/site-packages',\n",
       " '/Users/Florian/anaconda/lib/python2.7/site-packages/Sphinx-1.5.1-py2.7.egg',\n",
       " '/Users/Florian/anaconda/lib/python2.7/site-packages/aeosa',\n",
       " '/Users/Florian/anaconda/lib/python2.7/site-packages/setuptools-27.2.0-py2.7.egg',\n",
       " '/Users/Florian/anaconda/lib/python2.7/site-packages/IPython/extensions',\n",
       " '/Users/Florian/.ipython']"
      ]
     },
     "execution_count": 8,
     "metadata": {},
     "output_type": "execute_result"
    }
   ],
   "source": [
    "sys.path"
   ]
  },
  {
   "cell_type": "code",
   "execution_count": 9,
   "metadata": {
    "collapsed": false
   },
   "outputs": [],
   "source": [
    "import xgboost"
   ]
  },
  {
   "cell_type": "code",
   "execution_count": null,
   "metadata": {
    "collapsed": true
   },
   "outputs": [],
   "source": []
  }
 ],
 "metadata": {
  "kernelspec": {
   "display_name": "Python 2",
   "language": "python",
   "name": "python2"
  },
  "language_info": {
   "codemirror_mode": {
    "name": "ipython",
    "version": 2
   },
   "file_extension": ".py",
   "mimetype": "text/x-python",
   "name": "python",
   "nbconvert_exporter": "python",
   "pygments_lexer": "ipython2",
   "version": "2.7.13"
  }
 },
 "nbformat": 4,
 "nbformat_minor": 2
}
