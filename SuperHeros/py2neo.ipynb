{
 "cells": [
  {
   "cell_type": "markdown",
   "metadata": {},
   "source": [
    "# py2neo  : librairie pour applications python utilisant la base de données en graphe neo4j\n"
   ]
  },
  {
   "cell_type": "code",
   "execution_count": 1,
   "metadata": {
    "collapsed": false
   },
   "outputs": [],
   "source": [
    "from py2neo import Graph, authenticate, Relationship"
   ]
  },
  {
   "cell_type": "code",
   "execution_count": 2,
   "metadata": {
    "collapsed": false
   },
   "outputs": [],
   "source": [
    "authenticate(\"localhost:7474\", \"neo4j\", \"admin\")"
   ]
  },
  {
   "cell_type": "code",
   "execution_count": 3,
   "metadata": {
    "collapsed": true
   },
   "outputs": [],
   "source": [
    "graph = Graph()"
   ]
  },
  {
   "cell_type": "code",
   "execution_count": 4,
   "metadata": {
    "collapsed": true
   },
   "outputs": [],
   "source": [
    "#creation des noeuds\n",
    "import csv\n",
    "with open (\"vertices.csv\", \"r\") as f:\n",
    "    vertices_data = [(line[0], ''.join(line[1:])) for line in csv.reader(f, delimiter=\",\")]"
   ]
  },
  {
   "cell_type": "code",
   "execution_count": 5,
   "metadata": {
    "collapsed": false
   },
   "outputs": [],
   "source": [
    "for vertice in vertices_data[:6486]:\n",
    "    graph.run('''\n",
    "    CREATE (c: character {number:{I}, name:{N}})\n",
    "    RETURN c\n",
    "    \n",
    "    ''', {\"I\": vertice[0], \"N\": vertice[1]})\n",
    "    "
   ]
  },
  {
   "cell_type": "code",
   "execution_count": 6,
   "metadata": {
    "collapsed": true
   },
   "outputs": [],
   "source": [
    "for vertice in vertices_data[6485:]:\n",
    "    graph.run('''\n",
    "    CREATE (c: comics {number: {I}, name: {N}})\n",
    "    RETURN c\n",
    "    ''', {\"I\": vertice[0], \"N\": vertice[1]})"
   ]
  },
  {
   "cell_type": "code",
   "execution_count": 7,
   "metadata": {
    "collapsed": true
   },
   "outputs": [],
   "source": [
    "# creation des relations entre character et comics"
   ]
  },
  {
   "cell_type": "code",
   "execution_count": 8,
   "metadata": {
    "collapsed": true
   },
   "outputs": [],
   "source": [
    "with open(\"edges.csv\", \"r\") as f:\n",
    "    edges_data = [list(line) for line in csv.reader(f, delimiter=\",\")]"
   ]
  },
  {
   "cell_type": "code",
   "execution_count": 9,
   "metadata": {
    "collapsed": false
   },
   "outputs": [],
   "source": [
    "for edge in edges_data:\n",
    "    for dest in edge[1:]:\n",
    "        graph.run('''\n",
    "        MATCH (c: character {number :{I}}),\n",
    "        (x: comics {number :{N}})\n",
    "        MERGE (c)-[r:APPEARS_IN]->(x)\n",
    "        RETURN r\n",
    "        ''', {\"I\": edge[0], \"N\": dest })"
   ]
  },
  {
   "cell_type": "code",
   "execution_count": null,
   "metadata": {
    "collapsed": true
   },
   "outputs": [],
   "source": []
  }
 ],
 "metadata": {
  "anaconda-cloud": {},
  "kernelspec": {
   "display_name": "Python 2",
   "language": "python",
   "name": "python2"
  },
  "language_info": {
   "codemirror_mode": {
    "name": "ipython",
    "version": 2
   },
   "file_extension": ".py",
   "mimetype": "text/x-python",
   "name": "python",
   "nbconvert_exporter": "python",
   "pygments_lexer": "ipython2",
   "version": "2.7.13"
  }
 },
 "nbformat": 4,
 "nbformat_minor": 1
}
