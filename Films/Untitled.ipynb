{
 "cells": [
  {
   "cell_type": "code",
   "execution_count": 9,
   "metadata": {
    "collapsed": true
   },
   "outputs": [],
   "source": [
    "# TODO traiter un exemple de creation de node et de relationship\n",
    "from py2neo import Graph, authenticate, Relationship"
   ]
  },
  {
   "cell_type": "code",
   "execution_count": 10,
   "metadata": {
    "collapsed": true
   },
   "outputs": [],
   "source": [
    "authenticate(\"localhost:7474\", \"neo4j\", \"admin\")"
   ]
  },
  {
   "cell_type": "code",
   "execution_count": 11,
   "metadata": {
    "collapsed": true
   },
   "outputs": [],
   "source": [
    "graph = Graph()"
   ]
  },
  {
   "cell_type": "code",
   "execution_count": 12,
   "metadata": {
    "collapsed": false
   },
   "outputs": [],
   "source": [
    "import unicodedata\n",
    "import chardet\n",
    "import sys\n",
    "#print sys.maxunicode > 0xffff\n",
    "#from unidecode import unidecode\n",
    "#with open (\"movies.dat\", \"r\") as f:\n",
    "   # indice=0\n",
    "  #  for line in f.readlines():\n",
    "    #    indice +=1\n",
    "      #  if chardet.detect(line)['confidence'] != 1.0:\n",
    "       #     print chardet.detect(line)\n",
    "       #     print indice"
   ]
  },
  {
   "cell_type": "code",
   "execution_count": 48,
   "metadata": {
    "collapsed": false
   },
   "outputs": [],
   "source": [
    " # Les films : id, nom, genre\n",
    "with open (\"movies.dat\", \"r\") as f:\n",
    "    movies_data = [list(line.strip().split(\"::\")) for line in f.readlines()]\n",
    "\n"
   ]
  },
  {
   "cell_type": "code",
   "execution_count": 53,
   "metadata": {
    "collapsed": false
   },
   "outputs": [],
   "source": [
    "# Les notations : id_user, id_film, note, timestamp\n",
    "with open (\"ratings_allege.dat\", \"r\") as f:\n",
    "    ratings_data = [list(line.strip().split(\"::\")) for line in f.readlines()]\n"
   ]
  },
  {
   "cell_type": "code",
   "execution_count": 49,
   "metadata": {
    "collapsed": false
   },
   "outputs": [],
   "source": [
    "# creation des noeuds \"Movies\" dans neo4j\n",
    "for movies in movies_data:\n",
    "    graph.run('''\n",
    "    CREATE (m: movie {id:{I}, name:{N}, genre:{G}})\n",
    "    RETURN m\n",
    "    \n",
    "    ''', {\"I\": movies[0], \"N\": movies[1], \"G\": movies[2]})"
   ]
  },
  {
   "cell_type": "code",
   "execution_count": 57,
   "metadata": {
    "collapsed": false
   },
   "outputs": [],
   "source": [
    "# creation des noeuds \"Ratings\" dans neo4j\n",
    "for ratings in ratings_data:\n",
    "    graph.run('''\n",
    "    CREATE (r: rating {id_user:{I1}, id_film:{I2}, note:{N}, date:{D}})\n",
    "    RETURN r\n",
    "    \n",
    "    ''', {\"I1\": ratings[0], \"I2\": ratings[1], \"N\": ratings[2], \"D\": ratings[3]})"
   ]
  },
  {
   "cell_type": "code",
   "execution_count": 55,
   "metadata": {
    "collapsed": true
   },
   "outputs": [],
   "source": [
    "# creation des relations entre films et notes"
   ]
  },
  {
   "cell_type": "code",
   "execution_count": 58,
   "metadata": {
    "collapsed": true
   },
   "outputs": [],
   "source": [
    "for ratings in ratings_data:\n",
    "    graph.run('''\n",
    "    MATCH (u: user {number :{U}}),\n",
    "    (m: movie {number :{M}})\n",
    "    MERGE (U)-[r:HAS_RATED]->(M)\n",
    "    RETURN r\n",
    "        ''', {\"U\": ratings[0], \"M\": ratings[1] })"
   ]
  },
  {
   "cell_type": "code",
   "execution_count": null,
   "metadata": {
    "collapsed": true
   },
   "outputs": [],
   "source": []
  }
 ],
 "metadata": {
  "kernelspec": {
   "display_name": "Python 2",
   "language": "python",
   "name": "python2"
  },
  "language_info": {
   "codemirror_mode": {
    "name": "ipython",
    "version": 2
   },
   "file_extension": ".py",
   "mimetype": "text/x-python",
   "name": "python",
   "nbconvert_exporter": "python",
   "pygments_lexer": "ipython2",
   "version": "2.7.13"
  }
 },
 "nbformat": 4,
 "nbformat_minor": 2
}
